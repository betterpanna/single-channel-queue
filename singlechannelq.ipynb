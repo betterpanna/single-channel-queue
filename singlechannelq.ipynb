{
  "nbformat": 4,
  "nbformat_minor": 0,
  "metadata": {
    "colab": {
      "name": "singlechannelq.ipynb",
      "provenance": [],
      "collapsed_sections": []
    },
    "kernelspec": {
      "name": "python3",
      "display_name": "Python 3"
    },
    "language_info": {
      "name": "python"
    }
  },
  "cells": [
    {
      "cell_type": "code",
      "metadata": {
        "id": "5oF2wR-UNSiy"
      },
      "source": [
        "#For interarrival time\n",
        "from scipy.stats import *\n",
        "data_poisson = poisson.rvs(mu=5.6, size=19)"
      ],
      "execution_count": null,
      "outputs": []
    },
    {
      "cell_type": "code",
      "metadata": {
        "colab": {
          "base_uri": "https://localhost:8080/"
        },
        "id": "kl-7lXGPxzhZ",
        "outputId": "1d7a9cc5-c9fa-438d-ee1f-580c6a93e6b6"
      },
      "source": [
        "print(data_poisson)"
      ],
      "execution_count": null,
      "outputs": [
        {
          "output_type": "stream",
          "text": [
            "[8 4 4 3 6 5 6 3 4 3 8 5 4 8 5 6 4 3 6]\n"
          ],
          "name": "stdout"
        }
      ]
    },
    {
      "cell_type": "code",
      "metadata": {
        "id": "qEJdaW4_x5Ja"
      },
      "source": [
        "#For service time\n",
        "from scipy.stats import *\n",
        "data_expon = expon.rvs(scale=0.5,loc=5,size=20)"
      ],
      "execution_count": null,
      "outputs": []
    },
    {
      "cell_type": "code",
      "metadata": {
        "colab": {
          "base_uri": "https://localhost:8080/"
        },
        "id": "zdnZihO24CnX",
        "outputId": "1dec4b19-3bac-4a3d-dea8-c7dde495e47a"
      },
      "source": [
        "print(data_expon)"
      ],
      "execution_count": null,
      "outputs": [
        {
          "output_type": "stream",
          "text": [
            "[5.05886771 5.29484742 5.03645229 5.2411334  5.70380447 7.32940772\n",
            " 5.41634715 5.44252107 5.20003285 5.05446031 5.03370507 6.1686838\n",
            " 5.92025608 6.53587404 5.11314699 5.03004281 5.13130735 5.27521053\n",
            " 5.86940187 5.22365885]\n"
          ],
          "name": "stdout"
        }
      ]
    },
    {
      "cell_type": "code",
      "metadata": {
        "colab": {
          "base_uri": "https://localhost:8080/"
        },
        "id": "62G5SOZdEXwl",
        "outputId": "8677f3d6-8af4-4d8f-d381-142a85802ae2"
      },
      "source": [
        "import pandas as pd\n",
        "import numpy as np\n",
        "import math\n",
        "\n",
        "\n",
        "\n",
        "customer_no=pd.Series()\n",
        "Interarrival_time= { }\n",
        "\n",
        "\n",
        "arrival_time = pd.Series()\n",
        "service_time=pd.Series()\n",
        "time_service_begain=pd.Series()\n",
        "waiting_time_in_queue=pd.Series()\n",
        "Time_service_end=pd.Series()\n",
        "Time_customer_spend_in_system=pd.Series()\n",
        "Ideal_time_of_server=pd.Series()\n",
        "\n",
        "states = pd.DataFrame({'customer no':customer_no,'Interarrival time':Interarrival_time , 'arrival time': arrival_time,'service time':service_time,\n",
        "                       'time service begain':time_service_begain,'waiting time in queue':waiting_time_in_queue,\n",
        "                       'Time service end':Time_service_end,\n",
        "                       'Time customer spend in system':Time_customer_spend_in_system,'Ideal time of server':Ideal_time_of_server})\n",
        "\n",
        "print(states)"
      ],
      "execution_count": null,
      "outputs": [
        {
          "output_type": "stream",
          "text": [
            "Empty DataFrame\n",
            "Columns: [customer no, Interarrival time, arrival time, service time, time service begain, waiting time in queue, Time service end, Time customer spend in system, Ideal time of server]\n",
            "Index: []\n"
          ],
          "name": "stdout"
        },
        {
          "output_type": "stream",
          "text": [
            "/usr/local/lib/python3.7/dist-packages/ipykernel_launcher.py:7: DeprecationWarning: The default dtype for empty Series will be 'object' instead of 'float64' in a future version. Specify a dtype explicitly to silence this warning.\n",
            "  import sys\n",
            "/usr/local/lib/python3.7/dist-packages/ipykernel_launcher.py:11: DeprecationWarning: The default dtype for empty Series will be 'object' instead of 'float64' in a future version. Specify a dtype explicitly to silence this warning.\n",
            "  # This is added back by InteractiveShellApp.init_path()\n",
            "/usr/local/lib/python3.7/dist-packages/ipykernel_launcher.py:12: DeprecationWarning: The default dtype for empty Series will be 'object' instead of 'float64' in a future version. Specify a dtype explicitly to silence this warning.\n",
            "  if sys.path[0] == '':\n",
            "/usr/local/lib/python3.7/dist-packages/ipykernel_launcher.py:13: DeprecationWarning: The default dtype for empty Series will be 'object' instead of 'float64' in a future version. Specify a dtype explicitly to silence this warning.\n",
            "  del sys.path[0]\n",
            "/usr/local/lib/python3.7/dist-packages/ipykernel_launcher.py:14: DeprecationWarning: The default dtype for empty Series will be 'object' instead of 'float64' in a future version. Specify a dtype explicitly to silence this warning.\n",
            "  \n",
            "/usr/local/lib/python3.7/dist-packages/ipykernel_launcher.py:15: DeprecationWarning: The default dtype for empty Series will be 'object' instead of 'float64' in a future version. Specify a dtype explicitly to silence this warning.\n",
            "  from ipykernel import kernelapp as app\n",
            "/usr/local/lib/python3.7/dist-packages/ipykernel_launcher.py:16: DeprecationWarning: The default dtype for empty Series will be 'object' instead of 'float64' in a future version. Specify a dtype explicitly to silence this warning.\n",
            "  app.launch_new_instance()\n",
            "/usr/local/lib/python3.7/dist-packages/ipykernel_launcher.py:17: DeprecationWarning: The default dtype for empty Series will be 'object' instead of 'float64' in a future version. Specify a dtype explicitly to silence this warning.\n"
          ],
          "name": "stderr"
        }
      ]
    },
    {
      "cell_type": "code",
      "metadata": {
        "id": "ZnEDlQjqCOet"
      },
      "source": [
        ""
      ],
      "execution_count": null,
      "outputs": []
    },
    {
      "cell_type": "code",
      "metadata": {
        "colab": {
          "base_uri": "https://localhost:8080/",
          "height": 669
        },
        "id": "4BP2jEWtHy-b",
        "outputId": "bc78ece0-7329-415d-b228-2e63cd5574cf"
      },
      "source": [
        "import pandas as pd\n",
        "\n",
        "import numpy as np\n",
        "\n",
        "import matplotlib.pyplot as plt\n",
        "d = {'customer no': [1, 2,3,4,5,6,7,8,9,10,11,12,13,14,15,16,17,18,19,20], \n",
        "     'Interarrivaltime': [0,8,4 ,4,3, 6, 5 ,6, 3 ,4 ,3 ,8, 5 ,4, 8, 5, 6, 4, 3, 6],\n",
        "     'arrivalTime':[0,8,12,16,19,25,30,36,39,43,46,54,59,63,71,76,82,86,89,95],\n",
        "     'service time':[5.09407264, 5.32469159, 5.65799185, 6.49150078, 5.13882223, 5.39244015,\n",
        " 5.3192797,  5.03520079, 6.06119599, 5.33469449, 5.05028734, 5.09421206,\n",
        " 5.10466445, 5.78855162, 5.8420343,  6.65996096, 6.10287063, 5.98218951,\n",
        " 5.05854506, 5.34268906],\n",
        " }\n",
        "df = pd.DataFrame(data=d)\n",
        "df\n"
      ],
      "execution_count": null,
      "outputs": [
        {
          "output_type": "execute_result",
          "data": {
            "text/html": [
              "<div>\n",
              "<style scoped>\n",
              "    .dataframe tbody tr th:only-of-type {\n",
              "        vertical-align: middle;\n",
              "    }\n",
              "\n",
              "    .dataframe tbody tr th {\n",
              "        vertical-align: top;\n",
              "    }\n",
              "\n",
              "    .dataframe thead th {\n",
              "        text-align: right;\n",
              "    }\n",
              "</style>\n",
              "<table border=\"1\" class=\"dataframe\">\n",
              "  <thead>\n",
              "    <tr style=\"text-align: right;\">\n",
              "      <th></th>\n",
              "      <th>customer no</th>\n",
              "      <th>Interarrivaltime</th>\n",
              "      <th>arrivalTime</th>\n",
              "      <th>service time</th>\n",
              "    </tr>\n",
              "  </thead>\n",
              "  <tbody>\n",
              "    <tr>\n",
              "      <th>0</th>\n",
              "      <td>1</td>\n",
              "      <td>0</td>\n",
              "      <td>0</td>\n",
              "      <td>5.094073</td>\n",
              "    </tr>\n",
              "    <tr>\n",
              "      <th>1</th>\n",
              "      <td>2</td>\n",
              "      <td>8</td>\n",
              "      <td>8</td>\n",
              "      <td>5.324692</td>\n",
              "    </tr>\n",
              "    <tr>\n",
              "      <th>2</th>\n",
              "      <td>3</td>\n",
              "      <td>4</td>\n",
              "      <td>12</td>\n",
              "      <td>5.657992</td>\n",
              "    </tr>\n",
              "    <tr>\n",
              "      <th>3</th>\n",
              "      <td>4</td>\n",
              "      <td>4</td>\n",
              "      <td>16</td>\n",
              "      <td>6.491501</td>\n",
              "    </tr>\n",
              "    <tr>\n",
              "      <th>4</th>\n",
              "      <td>5</td>\n",
              "      <td>3</td>\n",
              "      <td>19</td>\n",
              "      <td>5.138822</td>\n",
              "    </tr>\n",
              "    <tr>\n",
              "      <th>5</th>\n",
              "      <td>6</td>\n",
              "      <td>6</td>\n",
              "      <td>25</td>\n",
              "      <td>5.392440</td>\n",
              "    </tr>\n",
              "    <tr>\n",
              "      <th>6</th>\n",
              "      <td>7</td>\n",
              "      <td>5</td>\n",
              "      <td>30</td>\n",
              "      <td>5.319280</td>\n",
              "    </tr>\n",
              "    <tr>\n",
              "      <th>7</th>\n",
              "      <td>8</td>\n",
              "      <td>6</td>\n",
              "      <td>36</td>\n",
              "      <td>5.035201</td>\n",
              "    </tr>\n",
              "    <tr>\n",
              "      <th>8</th>\n",
              "      <td>9</td>\n",
              "      <td>3</td>\n",
              "      <td>39</td>\n",
              "      <td>6.061196</td>\n",
              "    </tr>\n",
              "    <tr>\n",
              "      <th>9</th>\n",
              "      <td>10</td>\n",
              "      <td>4</td>\n",
              "      <td>43</td>\n",
              "      <td>5.334694</td>\n",
              "    </tr>\n",
              "    <tr>\n",
              "      <th>10</th>\n",
              "      <td>11</td>\n",
              "      <td>3</td>\n",
              "      <td>46</td>\n",
              "      <td>5.050287</td>\n",
              "    </tr>\n",
              "    <tr>\n",
              "      <th>11</th>\n",
              "      <td>12</td>\n",
              "      <td>8</td>\n",
              "      <td>54</td>\n",
              "      <td>5.094212</td>\n",
              "    </tr>\n",
              "    <tr>\n",
              "      <th>12</th>\n",
              "      <td>13</td>\n",
              "      <td>5</td>\n",
              "      <td>59</td>\n",
              "      <td>5.104664</td>\n",
              "    </tr>\n",
              "    <tr>\n",
              "      <th>13</th>\n",
              "      <td>14</td>\n",
              "      <td>4</td>\n",
              "      <td>63</td>\n",
              "      <td>5.788552</td>\n",
              "    </tr>\n",
              "    <tr>\n",
              "      <th>14</th>\n",
              "      <td>15</td>\n",
              "      <td>8</td>\n",
              "      <td>71</td>\n",
              "      <td>5.842034</td>\n",
              "    </tr>\n",
              "    <tr>\n",
              "      <th>15</th>\n",
              "      <td>16</td>\n",
              "      <td>5</td>\n",
              "      <td>76</td>\n",
              "      <td>6.659961</td>\n",
              "    </tr>\n",
              "    <tr>\n",
              "      <th>16</th>\n",
              "      <td>17</td>\n",
              "      <td>6</td>\n",
              "      <td>82</td>\n",
              "      <td>6.102871</td>\n",
              "    </tr>\n",
              "    <tr>\n",
              "      <th>17</th>\n",
              "      <td>18</td>\n",
              "      <td>4</td>\n",
              "      <td>86</td>\n",
              "      <td>5.982190</td>\n",
              "    </tr>\n",
              "    <tr>\n",
              "      <th>18</th>\n",
              "      <td>19</td>\n",
              "      <td>3</td>\n",
              "      <td>89</td>\n",
              "      <td>5.058545</td>\n",
              "    </tr>\n",
              "    <tr>\n",
              "      <th>19</th>\n",
              "      <td>20</td>\n",
              "      <td>6</td>\n",
              "      <td>95</td>\n",
              "      <td>5.342689</td>\n",
              "    </tr>\n",
              "  </tbody>\n",
              "</table>\n",
              "</div>"
            ],
            "text/plain": [
              "    customer no  Interarrivaltime  arrivalTime  service time\n",
              "0             1                 0            0      5.094073\n",
              "1             2                 8            8      5.324692\n",
              "2             3                 4           12      5.657992\n",
              "3             4                 4           16      6.491501\n",
              "4             5                 3           19      5.138822\n",
              "5             6                 6           25      5.392440\n",
              "6             7                 5           30      5.319280\n",
              "7             8                 6           36      5.035201\n",
              "8             9                 3           39      6.061196\n",
              "9            10                 4           43      5.334694\n",
              "10           11                 3           46      5.050287\n",
              "11           12                 8           54      5.094212\n",
              "12           13                 5           59      5.104664\n",
              "13           14                 4           63      5.788552\n",
              "14           15                 8           71      5.842034\n",
              "15           16                 5           76      6.659961\n",
              "16           17                 6           82      6.102871\n",
              "17           18                 4           86      5.982190\n",
              "18           19                 3           89      5.058545\n",
              "19           20                 6           95      5.342689"
            ]
          },
          "metadata": {
            "tags": []
          },
          "execution_count": 15
        }
      ]
    },
    {
      "cell_type": "code",
      "metadata": {
        "id": "MgwNeIl5COzh"
      },
      "source": [
        ""
      ],
      "execution_count": null,
      "outputs": []
    },
    {
      "cell_type": "code",
      "metadata": {
        "colab": {
          "base_uri": "https://localhost:8080/",
          "height": 669
        },
        "id": "J6vp4l0BL3xa",
        "outputId": "d3df5faf-9e30-4522-daae-5dd915c2d6af"
      },
      "source": [
        "d = {'customer no': [1, 2,3,4,5,6,7,8,9,10,11,12,13,14,15,16,17,18,19,20], \n",
        "     'Interarrival time': [0,8,4 ,4,3, 6, 5 ,6, 3 ,4 ,3 ,8, 5 ,4, 8, 5, 6, 4, 3, 6],\n",
        "     'arrival time':[0,8,12,16,19,25,30,36,39,43,46,54,59,63,71,76,82,86,89,95],\n",
        "     'service time':[5.09407264, 5.32469159, 5.65799185, 6.49150078, 5.13882223, 5.39244015,\n",
        " 5.3192797,  5.03520079, 6.06119599, 5.33469449, 5.05028734, 5.09421206,\n",
        " 5.10466445, 5.78855162, 5.8420343,  6.65996096, 6.10287063, 5.98218951,\n",
        " 5.05854506, 5.34268906],\n",
        " 'time service begain':[0,8,12,16,21,25,30,36,40,45,50,55,60,65,71,76,82,87,91,95]}\n",
        "df = pd.DataFrame(data=d)\n",
        "df"
      ],
      "execution_count": null,
      "outputs": [
        {
          "output_type": "execute_result",
          "data": {
            "text/html": [
              "<div>\n",
              "<style scoped>\n",
              "    .dataframe tbody tr th:only-of-type {\n",
              "        vertical-align: middle;\n",
              "    }\n",
              "\n",
              "    .dataframe tbody tr th {\n",
              "        vertical-align: top;\n",
              "    }\n",
              "\n",
              "    .dataframe thead th {\n",
              "        text-align: right;\n",
              "    }\n",
              "</style>\n",
              "<table border=\"1\" class=\"dataframe\">\n",
              "  <thead>\n",
              "    <tr style=\"text-align: right;\">\n",
              "      <th></th>\n",
              "      <th>customer no</th>\n",
              "      <th>Interarrival time</th>\n",
              "      <th>arrival time</th>\n",
              "      <th>service time</th>\n",
              "      <th>time service begain</th>\n",
              "    </tr>\n",
              "  </thead>\n",
              "  <tbody>\n",
              "    <tr>\n",
              "      <th>0</th>\n",
              "      <td>1</td>\n",
              "      <td>0</td>\n",
              "      <td>0</td>\n",
              "      <td>5.094073</td>\n",
              "      <td>0</td>\n",
              "    </tr>\n",
              "    <tr>\n",
              "      <th>1</th>\n",
              "      <td>2</td>\n",
              "      <td>8</td>\n",
              "      <td>8</td>\n",
              "      <td>5.324692</td>\n",
              "      <td>8</td>\n",
              "    </tr>\n",
              "    <tr>\n",
              "      <th>2</th>\n",
              "      <td>3</td>\n",
              "      <td>4</td>\n",
              "      <td>12</td>\n",
              "      <td>5.657992</td>\n",
              "      <td>12</td>\n",
              "    </tr>\n",
              "    <tr>\n",
              "      <th>3</th>\n",
              "      <td>4</td>\n",
              "      <td>4</td>\n",
              "      <td>16</td>\n",
              "      <td>6.491501</td>\n",
              "      <td>16</td>\n",
              "    </tr>\n",
              "    <tr>\n",
              "      <th>4</th>\n",
              "      <td>5</td>\n",
              "      <td>3</td>\n",
              "      <td>19</td>\n",
              "      <td>5.138822</td>\n",
              "      <td>21</td>\n",
              "    </tr>\n",
              "    <tr>\n",
              "      <th>5</th>\n",
              "      <td>6</td>\n",
              "      <td>6</td>\n",
              "      <td>25</td>\n",
              "      <td>5.392440</td>\n",
              "      <td>25</td>\n",
              "    </tr>\n",
              "    <tr>\n",
              "      <th>6</th>\n",
              "      <td>7</td>\n",
              "      <td>5</td>\n",
              "      <td>30</td>\n",
              "      <td>5.319280</td>\n",
              "      <td>30</td>\n",
              "    </tr>\n",
              "    <tr>\n",
              "      <th>7</th>\n",
              "      <td>8</td>\n",
              "      <td>6</td>\n",
              "      <td>36</td>\n",
              "      <td>5.035201</td>\n",
              "      <td>36</td>\n",
              "    </tr>\n",
              "    <tr>\n",
              "      <th>8</th>\n",
              "      <td>9</td>\n",
              "      <td>3</td>\n",
              "      <td>39</td>\n",
              "      <td>6.061196</td>\n",
              "      <td>40</td>\n",
              "    </tr>\n",
              "    <tr>\n",
              "      <th>9</th>\n",
              "      <td>10</td>\n",
              "      <td>4</td>\n",
              "      <td>43</td>\n",
              "      <td>5.334694</td>\n",
              "      <td>45</td>\n",
              "    </tr>\n",
              "    <tr>\n",
              "      <th>10</th>\n",
              "      <td>11</td>\n",
              "      <td>3</td>\n",
              "      <td>46</td>\n",
              "      <td>5.050287</td>\n",
              "      <td>50</td>\n",
              "    </tr>\n",
              "    <tr>\n",
              "      <th>11</th>\n",
              "      <td>12</td>\n",
              "      <td>8</td>\n",
              "      <td>54</td>\n",
              "      <td>5.094212</td>\n",
              "      <td>55</td>\n",
              "    </tr>\n",
              "    <tr>\n",
              "      <th>12</th>\n",
              "      <td>13</td>\n",
              "      <td>5</td>\n",
              "      <td>59</td>\n",
              "      <td>5.104664</td>\n",
              "      <td>60</td>\n",
              "    </tr>\n",
              "    <tr>\n",
              "      <th>13</th>\n",
              "      <td>14</td>\n",
              "      <td>4</td>\n",
              "      <td>63</td>\n",
              "      <td>5.788552</td>\n",
              "      <td>65</td>\n",
              "    </tr>\n",
              "    <tr>\n",
              "      <th>14</th>\n",
              "      <td>15</td>\n",
              "      <td>8</td>\n",
              "      <td>71</td>\n",
              "      <td>5.842034</td>\n",
              "      <td>71</td>\n",
              "    </tr>\n",
              "    <tr>\n",
              "      <th>15</th>\n",
              "      <td>16</td>\n",
              "      <td>5</td>\n",
              "      <td>76</td>\n",
              "      <td>6.659961</td>\n",
              "      <td>76</td>\n",
              "    </tr>\n",
              "    <tr>\n",
              "      <th>16</th>\n",
              "      <td>17</td>\n",
              "      <td>6</td>\n",
              "      <td>82</td>\n",
              "      <td>6.102871</td>\n",
              "      <td>82</td>\n",
              "    </tr>\n",
              "    <tr>\n",
              "      <th>17</th>\n",
              "      <td>18</td>\n",
              "      <td>4</td>\n",
              "      <td>86</td>\n",
              "      <td>5.982190</td>\n",
              "      <td>87</td>\n",
              "    </tr>\n",
              "    <tr>\n",
              "      <th>18</th>\n",
              "      <td>19</td>\n",
              "      <td>3</td>\n",
              "      <td>89</td>\n",
              "      <td>5.058545</td>\n",
              "      <td>91</td>\n",
              "    </tr>\n",
              "    <tr>\n",
              "      <th>19</th>\n",
              "      <td>20</td>\n",
              "      <td>6</td>\n",
              "      <td>95</td>\n",
              "      <td>5.342689</td>\n",
              "      <td>95</td>\n",
              "    </tr>\n",
              "  </tbody>\n",
              "</table>\n",
              "</div>"
            ],
            "text/plain": [
              "    customer no  Interarrival time  ...  service time  time service begain\n",
              "0             1                  0  ...      5.094073                    0\n",
              "1             2                  8  ...      5.324692                    8\n",
              "2             3                  4  ...      5.657992                   12\n",
              "3             4                  4  ...      6.491501                   16\n",
              "4             5                  3  ...      5.138822                   21\n",
              "5             6                  6  ...      5.392440                   25\n",
              "6             7                  5  ...      5.319280                   30\n",
              "7             8                  6  ...      5.035201                   36\n",
              "8             9                  3  ...      6.061196                   40\n",
              "9            10                  4  ...      5.334694                   45\n",
              "10           11                  3  ...      5.050287                   50\n",
              "11           12                  8  ...      5.094212                   55\n",
              "12           13                  5  ...      5.104664                   60\n",
              "13           14                  4  ...      5.788552                   65\n",
              "14           15                  8  ...      5.842034                   71\n",
              "15           16                  5  ...      6.659961                   76\n",
              "16           17                  6  ...      6.102871                   82\n",
              "17           18                  4  ...      5.982190                   87\n",
              "18           19                  3  ...      5.058545                   91\n",
              "19           20                  6  ...      5.342689                   95\n",
              "\n",
              "[20 rows x 5 columns]"
            ]
          },
          "metadata": {
            "tags": []
          },
          "execution_count": 16
        }
      ]
    },
    {
      "cell_type": "code",
      "metadata": {
        "colab": {
          "base_uri": "https://localhost:8080/"
        },
        "id": "tlfP51LwASLy",
        "outputId": "1465bee6-3f90-4dc0-8174-01848c1f0ade"
      },
      "source": [
        "sub_column = df[\"time service begain\"] - df[\"arrival time\"]\n",
        "df[\"waiting_time_in_queue\"] = sub_column\n",
        "print(df)"
      ],
      "execution_count": null,
      "outputs": [
        {
          "output_type": "stream",
          "text": [
            "    customer no  Interarrival time  ...  time service begain  waiting_time_in_queue\n",
            "0             1                  0  ...                    0                      0\n",
            "1             2                  8  ...                    8                      0\n",
            "2             3                  4  ...                   12                      0\n",
            "3             4                  4  ...                   16                      0\n",
            "4             5                  3  ...                   21                      2\n",
            "5             6                  6  ...                   25                      0\n",
            "6             7                  5  ...                   30                      0\n",
            "7             8                  6  ...                   36                      0\n",
            "8             9                  3  ...                   40                      1\n",
            "9            10                  4  ...                   45                      2\n",
            "10           11                  3  ...                   50                      4\n",
            "11           12                  8  ...                   55                      1\n",
            "12           13                  5  ...                   60                      1\n",
            "13           14                  4  ...                   65                      2\n",
            "14           15                  8  ...                   71                      0\n",
            "15           16                  5  ...                   76                      0\n",
            "16           17                  6  ...                   82                      0\n",
            "17           18                  4  ...                   87                      1\n",
            "18           19                  3  ...                   91                      2\n",
            "19           20                  6  ...                   95                      0\n",
            "\n",
            "[20 rows x 6 columns]\n"
          ],
          "name": "stdout"
        }
      ]
    },
    {
      "cell_type": "code",
      "metadata": {
        "colab": {
          "base_uri": "https://localhost:8080/"
        },
        "id": "sq5YIHpJASd4",
        "outputId": "6ab7028a-5525-45eb-9dc5-d1c6dfd4deb3"
      },
      "source": [
        "sum_column = df[\"time service begain\"] + df[\"service time\"] \n",
        "df[\"Time service end\"] = sum_column\n",
        "print(df)"
      ],
      "execution_count": null,
      "outputs": [
        {
          "output_type": "stream",
          "text": [
            "    customer no  Interarrival time  ...  waiting_time_in_queue  Time service end\n",
            "0             1                  0  ...                      0          5.094073\n",
            "1             2                  8  ...                      0         13.324692\n",
            "2             3                  4  ...                      0         17.657992\n",
            "3             4                  4  ...                      0         22.491501\n",
            "4             5                  3  ...                      2         26.138822\n",
            "5             6                  6  ...                      0         30.392440\n",
            "6             7                  5  ...                      0         35.319280\n",
            "7             8                  6  ...                      0         41.035201\n",
            "8             9                  3  ...                      1         46.061196\n",
            "9            10                  4  ...                      2         50.334694\n",
            "10           11                  3  ...                      4         55.050287\n",
            "11           12                  8  ...                      1         60.094212\n",
            "12           13                  5  ...                      1         65.104664\n",
            "13           14                  4  ...                      2         70.788552\n",
            "14           15                  8  ...                      0         76.842034\n",
            "15           16                  5  ...                      0         82.659961\n",
            "16           17                  6  ...                      0         88.102871\n",
            "17           18                  4  ...                      1         92.982190\n",
            "18           19                  3  ...                      2         96.058545\n",
            "19           20                  6  ...                      0        100.342689\n",
            "\n",
            "[20 rows x 7 columns]\n"
          ],
          "name": "stdout"
        }
      ]
    },
    {
      "cell_type": "code",
      "metadata": {
        "colab": {
          "base_uri": "https://localhost:8080/"
        },
        "id": "6U_DbiSZASs9",
        "outputId": "3c727f0c-39a5-451e-efeb-adcfd849462d"
      },
      "source": [
        "sub_column = df[\"Time service end\"] - df[\"time service begain\"]\n",
        "df[\"Time customer spend in system\"] = sub_column\n",
        "print(df)"
      ],
      "execution_count": null,
      "outputs": [
        {
          "output_type": "stream",
          "text": [
            "    customer no  ...  Time customer spend in system\n",
            "0             1  ...                       5.094073\n",
            "1             2  ...                       5.324692\n",
            "2             3  ...                       5.657992\n",
            "3             4  ...                       6.491501\n",
            "4             5  ...                       5.138822\n",
            "5             6  ...                       5.392440\n",
            "6             7  ...                       5.319280\n",
            "7             8  ...                       5.035201\n",
            "8             9  ...                       6.061196\n",
            "9            10  ...                       5.334694\n",
            "10           11  ...                       5.050287\n",
            "11           12  ...                       5.094212\n",
            "12           13  ...                       5.104664\n",
            "13           14  ...                       5.788552\n",
            "14           15  ...                       5.842034\n",
            "15           16  ...                       6.659961\n",
            "16           17  ...                       6.102871\n",
            "17           18  ...                       5.982190\n",
            "18           19  ...                       5.058545\n",
            "19           20  ...                       5.342689\n",
            "\n",
            "[20 rows x 8 columns]\n"
          ],
          "name": "stdout"
        }
      ]
    },
    {
      "cell_type": "code",
      "metadata": {
        "colab": {
          "base_uri": "https://localhost:8080/"
        },
        "id": "M83s1Qf_AS51",
        "outputId": "f87efa74-e3a3-480f-fb3f-814e47298637"
      },
      "source": [
        "sub_column =df[\"arrival time\"] -  df[\"Time service end\"]\n",
        "df[\"Ideal_time_of_server\"] = sub_column\n",
        "print(df)"
      ],
      "execution_count": null,
      "outputs": [
        {
          "output_type": "stream",
          "text": [
            "    customer no  ...  Ideal_time_of_server\n",
            "0             1  ...             -5.094073\n",
            "1             2  ...             -5.324692\n",
            "2             3  ...             -5.657992\n",
            "3             4  ...             -6.491501\n",
            "4             5  ...             -7.138822\n",
            "5             6  ...             -5.392440\n",
            "6             7  ...             -5.319280\n",
            "7             8  ...             -5.035201\n",
            "8             9  ...             -7.061196\n",
            "9            10  ...             -7.334694\n",
            "10           11  ...             -9.050287\n",
            "11           12  ...             -6.094212\n",
            "12           13  ...             -6.104664\n",
            "13           14  ...             -7.788552\n",
            "14           15  ...             -5.842034\n",
            "15           16  ...             -6.659961\n",
            "16           17  ...             -6.102871\n",
            "17           18  ...             -6.982190\n",
            "18           19  ...             -7.058545\n",
            "19           20  ...             -5.342689\n",
            "\n",
            "[20 rows x 9 columns]\n"
          ],
          "name": "stdout"
        }
      ]
    },
    {
      "cell_type": "code",
      "metadata": {
        "colab": {
          "base_uri": "https://localhost:8080/"
        },
        "id": "ha5eFTHNYdJj",
        "outputId": "453f4c92-06c3-4ae1-807d-a835239c0c8f"
      },
      "source": [
        "from tabulate import tabulate   \n",
        "print(tabulate([['1', 0,0,5.094073,0,0,5.094073,5.094073], \n",
        "                ['2', 8,8,5.324692,8,0, 13.324692,5.324692  ],\n",
        "                ['3', 4,12,5.657992,12,0,17.657992,5.657992],\n",
        "                ['4', 4,16,6.491501,16,0,22.491501,6.491501],\n",
        "                ['5', 3,19,5.138822,21,2,26.138822,5.138822],\n",
        "                ['6', 6,25,5.392440,25,0,30.392440,5.392440],\n",
        "                ['7', 5,30,\t5.319280,\t30,0,35.319280,5.319280],\n",
        "                ['8', 6,36,5.035201,36,0,41.035201,5.035201],\n",
        "                ['9', 3,39,6.061196,40,1, 46.061196\t,6.061196],\n",
        "                ['10', 4,43,5.334694,45,2, 50.334694,5.334694],\n",
        "                ['11', 3,46,5.050287,50,4,55.050287,5.050287],\n",
        "                ['12', 8,54,5.094212,55,1,60.094212,5.094212],\n",
        "                ['13', 5,59,5.104664,60,1,65.104664,5.104664],\n",
        "                ['14', 4,63,5.788552,65,2, 70.788552,5.788552],\n",
        "                ['15', 8,71,5.842034,71,0,76.842034,5.842034],\n",
        "                ['16', 5,76,6.659961,76,0\t, 82.659961,6.659961],\n",
        "                ['17', 6,82,6.102871,82,0\t,\t 88.102871,6.102871],\n",
        "                ['18', 4,86,5.982190,87,1, 92.982190,5.982190\t],\n",
        "                ['19', 3,89,5.058545,91,2,96.058545,5.058545\t],\n",
        "                ['20', 6,95,5.342689,95,0, 100.342689,5.342689\t]], \n",
        "               headers=['customer no', 'Interarrival time','arrival time',\n",
        "                         'service_time','time_service_begain','waiting_time_in_queue',\n",
        "                         'service_end_Time','Time_customer_spend_in_system','Ideal_time_of_server'], tablefmt='orgtbl'))"
      ],
      "execution_count": null,
      "outputs": [
        {
          "output_type": "stream",
          "text": [
            "|   customer no |   Interarrival time |   arrival time |   service_time |   time_service_begain |   waiting_time_in_queue |   service_end_Time |   Time_customer_spend_in_system |\n",
            "|---------------+---------------------+----------------+----------------+-----------------------+-------------------------+--------------------+---------------------------------|\n",
            "|             1 |                   0 |              0 |        5.09407 |                     0 |                       0 |            5.09407 |                         5.09407 |\n",
            "|             2 |                   8 |              8 |        5.32469 |                     8 |                       0 |           13.3247  |                         5.32469 |\n",
            "|             3 |                   4 |             12 |        5.65799 |                    12 |                       0 |           17.658   |                         5.65799 |\n",
            "|             4 |                   4 |             16 |        6.4915  |                    16 |                       0 |           22.4915  |                         6.4915  |\n",
            "|             5 |                   3 |             19 |        5.13882 |                    21 |                       2 |           26.1388  |                         5.13882 |\n",
            "|             6 |                   6 |             25 |        5.39244 |                    25 |                       0 |           30.3924  |                         5.39244 |\n",
            "|             7 |                   5 |             30 |        5.31928 |                    30 |                       0 |           35.3193  |                         5.31928 |\n",
            "|             8 |                   6 |             36 |        5.0352  |                    36 |                       0 |           41.0352  |                         5.0352  |\n",
            "|             9 |                   3 |             39 |        6.0612  |                    40 |                       1 |           46.0612  |                         6.0612  |\n",
            "|            10 |                   4 |             43 |        5.33469 |                    45 |                       2 |           50.3347  |                         5.33469 |\n",
            "|            11 |                   3 |             46 |        5.05029 |                    50 |                       4 |           55.0503  |                         5.05029 |\n",
            "|            12 |                   8 |             54 |        5.09421 |                    55 |                       1 |           60.0942  |                         5.09421 |\n",
            "|            13 |                   5 |             59 |        5.10466 |                    60 |                       1 |           65.1047  |                         5.10466 |\n",
            "|            14 |                   4 |             63 |        5.78855 |                    65 |                       2 |           70.7886  |                         5.78855 |\n",
            "|            15 |                   8 |             71 |        5.84203 |                    71 |                       0 |           76.842   |                         5.84203 |\n",
            "|            16 |                   5 |             76 |        6.65996 |                    76 |                       0 |           82.66    |                         6.65996 |\n",
            "|            17 |                   6 |             82 |        6.10287 |                    82 |                       0 |           88.1029  |                         6.10287 |\n",
            "|            18 |                   4 |             86 |        5.98219 |                    87 |                       1 |           92.9822  |                         5.98219 |\n",
            "|            19 |                   3 |             89 |        5.05854 |                    91 |                       2 |           96.0585  |                         5.05854 |\n",
            "|            20 |                   6 |             95 |        5.34269 |                    95 |                       0 |          100.343   |                         5.34269 |\n"
          ],
          "name": "stdout"
        }
      ]
    }
  ]
}